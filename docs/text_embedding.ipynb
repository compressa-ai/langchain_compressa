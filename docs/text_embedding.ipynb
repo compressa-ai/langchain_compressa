{
 "cells": [
  {
   "cell_type": "raw",
   "id": "afaf8039",
   "metadata": {},
   "source": [
    "---\n",
    "sidebar_label: Compressa\n",
    "---"
   ]
  },
  {
   "cell_type": "markdown",
   "id": "e49f1e0d",
   "metadata": {},
   "source": [
    "# CompressaEmbeddings\n",
    "\n",
    "\n",
    "В этом ноутбуке рассказывается, как приступить к работе с моделями Compressa embedding.\n",
    "\n",
    "## Установка"
   ]
  },
  {
   "cell_type": "code",
   "execution_count": null,
   "id": "4c3bef91",
   "metadata": {},
   "outputs": [],
   "source": [
    "# установка пакета\n",
    "!pip install git+https://github.com/insight-stream/langchain_compressa.git"
   ]
  },
  {
   "cell_type": "markdown",
   "id": "2b4f3e15",
   "metadata": {},
   "source": [
    "## Настройка переменных окружения\n",
    "\n",
    "Убедитесь, что у вас установлена следующая переменная окружения:\n",
    "\n",
    "- COMPRESSA_API_KEY\n",
    "\n",
    "## Использование"
   ]
  },
  {
   "cell_type": "code",
   "execution_count": null,
   "id": "0f8bcfe4",
   "metadata": {},
   "outputs": [],
   "source": [
    "import os\n",
    "os.environ[\"COMPRESSA_API_KEY\"] = \"ваш_ключ_здесь\""
   ]
  },
  {
   "cell_type": "code",
   "execution_count": null,
   "id": "62e0dbc3",
   "metadata": {
    "tags": []
   },
   "outputs": [],
   "source": [
    "from langchain_compressa.embeddings import CompressaEmbeddings\n",
    "\n",
    "embeddings = CompressaEmbeddings()"
   ]
  },
  {
   "cell_type": "code",
   "execution_count": null,
   "id": "12fcfb4b",
   "metadata": {},
   "outputs": [],
   "source": [
    "embeddings.embed_query(\"Мой запрос на поиск\")"
   ]
  },
  {
   "cell_type": "code",
   "execution_count": null,
   "id": "1f2e6104",
   "metadata": {},
   "outputs": [],
   "source": [
    "embeddings.embed_documents(\n",
    "    [\"Это содержание документа\", \"Это другой документ\"]\n",
    ")"
   ]
  },
  {
   "cell_type": "code",
   "execution_count": null,
   "id": "46739f68",
   "metadata": {},
   "outputs": [],
   "source": [
    "import asyncio\n",
    "# асинхронный запрос на embedding запроса\n",
    "async def aembed_query():\n",
    "    await embeddings.aembed_query(\"Мой запрос на поиск\")\n",
    "\n",
    "asyncio.run(aembed_query())"
   ]
  },
  {
   "cell_type": "code",
   "execution_count": null,
   "id": "e48632ea",
   "metadata": {},
   "outputs": [],
   "source": [
    "# асинхронный запрос на embedding документов\n",
    "async def aembed_documents():\n",
    "    await embeddings.aembed_documents(\n",
    "        [\"Это содержание документа\", \"Это другой документ\"]\n",
    "    )\n",
    "\n",
    "asyncio.run(aembed_documents())"
   ]
  }
 ],
 "metadata": {
  "kernelspec": {
   "display_name": "Python 3 (ipykernel)",
   "language": "python",
   "name": "python3"
  },
  "language_info": {
   "codemirror_mode": {
    "name": "ipython",
    "version": 3
   },
   "file_extension": ".py",
   "mimetype": "text/x-python",
   "name": "python",
   "nbconvert_exporter": "python",
   "pygments_lexer": "ipython3",
   "version": "3.10.5"
  }
 },
 "nbformat": 4,
 "nbformat_minor": 5
}
