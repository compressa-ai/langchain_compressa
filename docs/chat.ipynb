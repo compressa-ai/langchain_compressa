{
 "cells": [
  {
   "cell_type": "raw",
   "id": "afaf8039",
   "metadata": {},
   "source": [
    "---\n",
    "sidebar_label: Compressa\n",
    "---"
   ]
  },
  {
   "cell_type": "markdown",
   "id": "e49f1e0d",
   "metadata": {},
   "source": [
    "# ChatCompressa\n",
    "## Обзор\n",
    "\n",
    "## Установка\n",
    "\n",
    "Интеграция LangChain и Compressa находится в пакете `langchain_compressa`:"
   ]
  },
  {
   "cell_type": "raw",
   "id": "af31921e",
   "metadata": {},
   "source": [
    "!pip install langchain-compressa"
   ]
  },
  {
   "cell_type": "markdown",
   "id": "dbec108c",
   "metadata": {},
   "source": [
    "### Учетные данные \n",
    "\n",
    "Для доступа к моделям Compressa вам необходимо получить ключ Compressa API.   \n",
    "Получите ключ Compressa API. После этого установите переменную окружения COMPRESSA_API_KEY:"
   ]
  },
  {
   "cell_type": "code",
   "execution_count": null,
   "id": "433e8d2b-9519-4b49-b2c4-7ab65b046c94",
   "metadata": {},
   "outputs": [],
   "source": [
    "import getpass\n",
    "import os\n",
    "\n",
    "os.environ[\"COMPRESSA_API_KEY\"] = getpass.getpass(\"Enter your Compressa API key: \")"
   ]
  },
  {
   "cell_type": "markdown",
   "id": "a38cde65-254d-4219-a441-068766c0d4b5",
   "metadata": {},
   "source": [
    "## Создание экземпляра\n",
    "\n",
    "Теперь вы можете создать экземпляр нашего объекта модели и сгенерировать продолжение чата:"
   ]
  },
  {
   "cell_type": "code",
   "execution_count": null,
   "id": "cb09c344-1836-4e0c-acf8-11d13ac1dbae",
   "metadata": {},
   "outputs": [],
   "source": [
    "from langchain_compressa import ChatCompressa\n",
    "\n",
    "llm = ChatCompressa(\n",
    "    temperature=0\n",
    ")"
   ]
  },
  {
   "cell_type": "markdown",
   "id": "2b4f3e15",
   "metadata": {},
   "source": [
    "## Вызов"
   ]
  },
  {
   "cell_type": "code",
   "execution_count": null,
   "id": "62e0dbc3",
   "metadata": {
    "tags": []
   },
   "outputs": [],
   "source": [
    "messages = [\n",
    "    (\n",
    "        \"system\",\n",
    "        \"Ты полезный помощник, который переводит с русского на английский. Переведи предложение пользователя.\",\n",
    "    ),\n",
    "    (\"human\", \"Я люблю программирование.\"),\n",
    "]\n",
    "ai_msg = llm.invoke(messages)\n",
    "ai_msg"
   ]
  },
  {
   "cell_type": "code",
   "execution_count": null,
   "id": "d86145b3-bfef-46e8-b227-4dda5c9c2705",
   "metadata": {},
   "outputs": [],
   "source": [
    "print(ai_msg.content)"
   ]
  },
  {
   "cell_type": "markdown",
   "id": "18e2bfc0-7e78-4528-a73f-499ac150dca8",
   "metadata": {},
   "source": [
    "## Цепочки (сhain)\n",
    "\n",
    "Мы можем объединить нашу модель с шаблоном запроса следующим образом:"
   ]
  },
  {
   "cell_type": "code",
   "execution_count": null,
   "id": "e197d1d7-a070-4c96-9f8a-a0e86d046e0b",
   "metadata": {},
   "outputs": [],
   "source": [
    "from langchain_core.prompts import ChatPromptTemplate\n",
    "\n",
    "prompt = ChatPromptTemplate.from_messages(\n",
    "    [\n",
    "        (\n",
    "            \"system\",\n",
    "            \"Ты полезный помощник, который переводит с {input_language} на {output_language}.\",\n",
    "        ),\n",
    "        (\"human\", \"{input}\"),\n",
    "    ]\n",
    ")\n",
    "\n",
    "chain = prompt | llm\n",
    "chain.invoke(\n",
    "    {\n",
    "        \"input_language\": \"русский\",\n",
    "        \"output_language\": \"английский\",\n",
    "        \"input\": \"Я люблю программирование.\",\n",
    "    }\n",
    ")"
   ]
  },
  {
   "cell_type": "markdown",
   "id": "3a5bb5ca-c3ae-4a58-be67-2cd18574b9a3",
   "metadata": {},
   "source": [
    "## Справочник по API\n",
    "\n",
    "Подробную документацию по всем функциям и конфигурациям ChatCompressa можно найти в справочнике по API: https://docs.compressa.ai/ru/docs/api-reference/rest/"
   ]
  }
 ],
 "metadata": {
  "kernelspec": {
   "display_name": "Python 3 (ipykernel)",
   "language": "python",
   "name": "python3"
  },
  "language_info": {
   "codemirror_mode": {
    "name": "ipython",
    "version": 3
   },
   "file_extension": ".py",
   "mimetype": "text/x-python",
   "name": "python",
   "nbconvert_exporter": "python",
   "pygments_lexer": "ipython3",
   "version": "3.9.1"
  }
 },
 "nbformat": 4,
 "nbformat_minor": 5
}
