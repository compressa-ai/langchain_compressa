{
 "cells": [
  {
   "cell_type": "raw",
   "id": "67db2992",
   "metadata": {},
   "source": [
    "---\n",
    "sidebar_label: Compressa\n",
    "---"
   ]
  },
  {
   "cell_type": "markdown",
   "id": "9597802c",
   "metadata": {},
   "source": [
    "# CompressaRerank\n",
    "\n",
    "This example goes over how to use LangChain to interact with `Compressa` models.\n",
    "\n",
    "## Installation"
   ]
  },
  {
   "cell_type": "code",
   "execution_count": null,
   "id": "59c710c4",
   "metadata": {},
   "outputs": [],
   "source": [
    "# install package\n",
    "!pip install -U langchain-compressa"
   ]
  },
  {
   "cell_type": "markdown",
   "id": "0ee90032",
   "metadata": {},
   "source": [
    "## Environment Setup\n",
    "\n",
    "Make sure to set the following environment variables:\n",
    "\n",
    "- COMPRESSA_API_KEY\n",
    "\n",
    "## Usage"
   ]
  },
  {
   "cell_type": "code",
   "execution_count": 7,
   "id": "b08a504d",
   "metadata": {},
   "outputs": [],
   "source": [
    "import os\n",
    "os.environ[\"COMPRESSA_API_KEY\"] = \"your_key_here\""
   ]
  },
  {
   "cell_type": "code",
   "execution_count": null,
   "id": "2ed1d821",
   "metadata": {},
   "outputs": [],
   "source": [
    "from langchain_core.documents import Document\n",
    "from langchain_compressa.reranks import CompressaRerank\n",
    "\n",
    "documents = [\n",
    "    Document(\n",
    "        page_content=\"Carson City is the capital city of the American state of Nevada. At the 2010 United States Census, Carson City had a population of 55,274.\",\n",
    "        metadata={\"source\": \"https://example.com/1\"}\n",
    "    ),\n",
    "    Document(\n",
    "        page_content=\"The Commonwealth of the Northern Mariana Islands is a group of islands in the Pacific Ocean that are a political division controlled by the United States. Its capital is Saipan.\",\n",
    "        metadata={\"source\": \"https://example.com/2\"}\n",
    "    ),\n",
    "    Document(\n",
    "        page_content=\"Charlotte Amalie is the capital and largest city of the United States Virgin Islands. It has about 20,000 people. The city is on the island of Saint Thomas.\",\n",
    "        metadata={\"source\": \"https://example.com/3\"}\n",
    "    ),\n",
    "    Document(\n",
    "        page_content=\"Washington, D.C. (also known as simply Washington or D.C., and officially as the District of Columbia) is the capital of the United States. It is a federal district. The President of the USA and many major national government offices are in the territory. This makes it the political center of the United States of America.\",\n",
    "        metadata={\"source\": \"https://example.com/4\"}\n",
    "    ), \n",
    "    Document(\n",
    "        page_content=\"Capital punishment (the death penalty) has existed in the United States since before the United States was a country. As of 2017, capital punishment is legal in 30 of the 50 states. The federal government (including the United States military) also uses capital punishment.\",\n",
    "        metadata={\"source\": \"https://example.com/5\"}\n",
    "    )\n",
    "]\n",
    "\n",
    "query = \"What is the capital of the United States?\"\n",
    "\n",
    "reranker = CompressaRerank()\n",
    "rerank_res = reranker.rerank(query=query,  documents=documents, top_n=3)\n",
    "compress_res = reranker.compress_documents(query=query,  documents=documents)"
   ]
  }
 ],
 "metadata": {
  "kernelspec": {
   "display_name": "Python 3.11.1 64-bit",
   "language": "python",
   "name": "python3"
  },
  "language_info": {
   "codemirror_mode": {
    "name": "ipython",
    "version": 3
   },
   "file_extension": ".py",
   "mimetype": "text/x-python",
   "name": "python",
   "nbconvert_exporter": "python",
   "pygments_lexer": "ipython3",
   "version": "3.10.12"
  },
  "vscode": {
   "interpreter": {
    "hash": "e971737741ff4ec9aff7dc6155a1060a59a8a6d52c757dbbe66bf8ee389494b1"
   }
  }
 },
 "nbformat": 4,
 "nbformat_minor": 5
}
