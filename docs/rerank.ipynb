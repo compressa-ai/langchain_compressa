{
 "cells": [
  {
   "cell_type": "raw",
   "id": "67db2992",
   "metadata": {},
   "source": [
    "---\n",
    "sidebar_label: Compressa\n",
    "---"
   ]
  },
  {
   "cell_type": "markdown",
   "id": "9597802c",
   "metadata": {},
   "source": [
    "# CompressaRerank\n",
    "\n",
    "\n",
    "В этом примере показано, как использовать LangChain для взаимодействия с моделями `Compressa` для переранжирования документов.\n",
    "\n",
    "## Установка"
   ]
  },
  {
   "cell_type": "code",
   "execution_count": null,
   "id": "59c710c4",
   "metadata": {},
   "outputs": [],
   "source": [
    "# установка пакета\n",
    "!pip install git+https://github.com/insight-stream/langchain_compressa.git"
   ]
  },
  {
   "cell_type": "markdown",
   "id": "0ee90032",
   "metadata": {},
   "source": [
    "## Настройка переменных окружения\n",
    "\n",
    "Убедитесь, что у вас установлена следующая переменная окружения:\n",
    "\n",
    "- COMPRESSA_API_KEY\n",
    "\n",
    "## Использование"
   ]
  },
  {
   "cell_type": "code",
   "execution_count": 7,
   "id": "b08a504d",
   "metadata": {},
   "outputs": [],
   "source": [
    "import os\n",
    "os.environ[\"COMPRESSA_API_KEY\"] = \"ваш_ключ_здесь\""
   ]
  },
  {
   "cell_type": "code",
   "execution_count": null,
   "id": "41a2dafa",
   "metadata": {},
   "outputs": [],
   "source": [
    "#установите дополнительные необходимые пакеты\n",
    "!pip install langchain_core"
   ]
  },
  {
   "cell_type": "code",
   "execution_count": null,
   "id": "2ed1d821",
   "metadata": {},
   "outputs": [],
   "source": [
    "from langchain_core.documents import Document\n",
    "from langchain_compressa.reranks import CompressaRerank\n",
    "\n",
    "#сначала зададим список из стандартных документов langchain\n",
    "documents = [\n",
    "    Document(\n",
    "        page_content=\"\"\"Карсон-Сити — столица американского штата Невада. \n",
    "        По данным переписи населения США 2010 года, население Карсон-Сити составляло 55 274 человека.\"\"\",\n",
    "        metadata={\"source\": \"https://пример.ru/1\"}\n",
    "    ),\n",
    "    Document(\n",
    "        page_content=\"\"\"Содружество Северных Марианских островов — группа островов в Тихом океане, \n",
    "        которые являются политическим разделением, контролируемым Соединенными Штатами. \n",
    "        Столица — Сайпан.\"\"\",\n",
    "        metadata={\"source\": \"https://пример.ru/2\"}\n",
    "    ),\n",
    "    Document(\n",
    "        page_content=\"\"\"Шарлотта-Амалия — столица и крупнейший город Виргинских островов США. \n",
    "        В нем проживает около 20 000 человек. Город находится на острове Сент-Томас.\"\"\",\n",
    "        metadata={\"source\": \"https://пример.ru/3\"}\n",
    "    ),\n",
    "    Document(\n",
    "        page_content=\"\"\"Вашингтон, округ Колумбия (также известный как просто Вашингтон или \n",
    "        округ Колумбия, и официально как округ Колумбия) — столица Соединенных Штатов. \n",
    "        Это федеральный округ. На территории находятся резиденция президента США и многие \n",
    "        крупные государственные правительственные учреждения. Это делает его политическим центром \n",
    "        Соединенных Штатов Америки.\"\"\",\n",
    "        metadata={\"source\": \"https://пример.ru/4\"}\n",
    "    ), \n",
    "    Document(\n",
    "        page_content=\"\"\"Смертная казнь существовала в Соединенных Штатах еще до того, \n",
    "        как Соединенные Штаты стали страной. По состоянию на 2017 год смертная казнь разрешена \n",
    "        в 30 из 50 штатов. Федеральное правительство (включая вооруженные силы США) также \n",
    "        применяет смертную казнь.\"\"\",\n",
    "        metadata={\"source\": \"https://пример.ru/5\"}\n",
    "    )\n",
    "]\n",
    "\n",
    "query = \"Какая столица у Соединенных Штатов Америки?\"\n",
    "\n",
    "#определим реранкер\n",
    "reranker = CompressaRerank()\n",
    "\n",
    "#и далее можем переранжировать документы для вопроса\n",
    "compress_res = reranker.compress_documents(query=query,  documents=documents)"
   ]
  }
 ],
 "metadata": {
  "kernelspec": {
   "display_name": "Python 3.11.1 64-bit",
   "language": "python",
   "name": "python3"
  },
  "language_info": {
   "codemirror_mode": {
    "name": "ipython",
    "version": 3
   },
   "file_extension": ".py",
   "mimetype": "text/x-python",
   "name": "python",
   "nbconvert_exporter": "python",
   "pygments_lexer": "ipython3",
   "version": "3.10.12"
  },
  "vscode": {
   "interpreter": {
    "hash": "e971737741ff4ec9aff7dc6155a1060a59a8a6d52c757dbbe66bf8ee389494b1"
   }
  }
 },
 "nbformat": 4,
 "nbformat_minor": 5
}
